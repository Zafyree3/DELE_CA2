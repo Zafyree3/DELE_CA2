{
 "cells": [
  {
   "cell_type": "markdown",
   "metadata": {},
   "source": [
    "# DELE ST1504 CA2\n",
    "# PART A: GAN\n",
    "\n",
    "<hr>\n",
    "\n",
    "**NAME**: Irman Zafyree, Adam Tan, Joachim\n",
    "\n",
    "**ADMIN NO**: `2300546`, `<ADM NO.>`, `<ADM NO>`\n",
    "\n",
    "**CLASS**: DAAA/FT/2B/07\n",
    "\n",
    "<hr>\n",
    "\n",
    "**Objective:**"
   ]
  }
 ],
 "metadata": {
  "language_info": {
   "name": "python"
  }
 },
 "nbformat": 4,
 "nbformat_minor": 2
}
