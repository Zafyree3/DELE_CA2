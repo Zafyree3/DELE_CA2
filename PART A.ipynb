{
 "cells": [
  {
   "cell_type": "markdown",
   "metadata": {},
   "source": [
    "# DELE ST1504 CA2\n",
    "# PART A: GAN\n",
    "\n",
    "<hr>\n",
    "\n",
    "**NAME**: Irman Zafyree, Adam Tan, Joachim\n",
    "\n",
    "**ADMIN NO**: `2300546`, `<ADM NO.>`, `<ADM NO>`\n",
    "\n",
    "**CLASS**: DAAA/FT/2B/07\n",
    "\n",
    "<hr>\n",
    "\n",
    "**Objective:**\n",
    "\n",
    "Code a GAN model that is able to generate 260 small black-and-white images of the given dataset in 26 distinct classes."
   ]
  },
  {
   "cell_type": "markdown",
   "metadata": {},
   "source": [
    "# Initial Set Up"
   ]
  },
  {
   "cell_type": "code",
   "execution_count": 1,
   "metadata": {},
   "outputs": [
    {
     "name": "stdout",
     "output_type": "stream",
     "text": [
      "emnist-letters-train.csv\n"
     ]
    }
   ],
   "source": [
    "from dotenv import load_dotenv\n",
    "import os\n",
    "\n",
    "load_dotenv()\n",
    "\n",
    "dataset_path = os.environ.get(\"DATASET_PATH\")\n",
    "\n"
   ]
  },
  {
   "cell_type": "code",
   "execution_count": null,
   "metadata": {},
   "outputs": [],
   "source": []
  }
 ],
 "metadata": {
  "kernelspec": {
   "display_name": "gpu_env",
   "language": "python",
   "name": "python3"
  },
  "language_info": {
   "codemirror_mode": {
    "name": "ipython",
    "version": 3
   },
   "file_extension": ".py",
   "mimetype": "text/x-python",
   "name": "python",
   "nbconvert_exporter": "python",
   "pygments_lexer": "ipython3",
   "version": "3.8.19"
  }
 },
 "nbformat": 4,
 "nbformat_minor": 2
}
